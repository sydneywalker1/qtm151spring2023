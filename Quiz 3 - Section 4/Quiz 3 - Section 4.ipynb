{
 "cells": [
  {
   "attachments": {},
   "cell_type": "markdown",
   "metadata": {},
   "source": [
    "# <span style=\"color:darkblue\"> QTM 151 - Quiz 3 </span>"
   ]
  },
  {
   "attachments": {},
   "cell_type": "markdown",
   "metadata": {},
   "source": [
    "## Try to submit as an HTML file"
   ]
  },
  {
   "attachments": {},
   "cell_type": "markdown",
   "metadata": {},
   "source": [
    "<font size=\"5\"> \n",
    "\n",
    "Print your name below"
   ]
  },
  {
   "cell_type": "code",
   "execution_count": 46,
   "metadata": {},
   "outputs": [
    {
     "name": "stdout",
     "output_type": "stream",
     "text": [
      "Sydney Walker\n"
     ]
    }
   ],
   "source": [
    "# Write your answer here\n",
    "print('Sydney Walker')\n",
    "\n"
   ]
  },
  {
   "attachments": {},
   "cell_type": "markdown",
   "metadata": {},
   "source": [
    "<font size = \"5\" >\n",
    "This quiz is open book \n",
    "\n",
    "- You can use the lecture notes\n",
    "- You will get partial credit for attempting the questions\n",
    "- To get full credit, the code should run as intended\n",
    "- You should <span style=\"color:red\"> NOT </span> communicate with other students\n",
    "\n",
    "Print the following message: <br>\n",
    "\n",
    "\"I will abide by Emory's code of conduct\"\n"
   ]
  },
  {
   "cell_type": "code",
   "execution_count": 45,
   "metadata": {},
   "outputs": [
    {
     "name": "stdout",
     "output_type": "stream",
     "text": [
      "I will abide by Emory's code of conduct\n"
     ]
    }
   ],
   "source": [
    "# Write your answer here:\n",
    "\n",
    "print(\"I will abide by Emory's code of conduct\")\n",
    "\n"
   ]
  },
  {
   "attachments": {},
   "cell_type": "markdown",
   "metadata": {},
   "source": [
    "<font size = \"5\">\n",
    "\n",
    "Import the libraries \"numpy\" and \"pandas\""
   ]
  },
  {
   "cell_type": "code",
   "execution_count": 1,
   "metadata": {},
   "outputs": [],
   "source": [
    "# Write your answer here\n",
    "\n",
    "import numpy as np\n",
    "import pandas as pd\n"
   ]
  },
  {
   "attachments": {},
   "cell_type": "markdown",
   "metadata": {},
   "source": [
    "\n",
    "<font size = \"5\">\n",
    "\n",
    "(a) Replace the values of a column\n",
    "\n",
    "<font size = \"3\">\n",
    "\n",
    "- Import the \"data_raw/driver_standings.csv\" file\n",
    "- Replace the values \"D\" with 26 in the column \"positionText\"\n",
    "- Create a new column \"positionNumeric\" that converts <br>\n",
    "the modified \"positionText\" column from string to numeric <br>\n",
    "using ```pd.to_numeric()```\n",
    "\n",
    "HINT: See the example in Lecture 13"
   ]
  },
  {
   "cell_type": "code",
   "execution_count": 47,
   "metadata": {},
   "outputs": [],
   "source": [
    "# Write your own code\n",
    "\n",
    "driver_standings = pd.read_csv('data_raw/driver_standings.csv')\n",
    "driver_standings['positionText'] = driver_standings['positionText'].replace(\"D\", 26)\n",
    "\n",
    "driver_standings['positionNumeric'] = pd.to_numeric(driver_standings['positionText'])"
   ]
  },
  {
   "attachments": {},
   "cell_type": "markdown",
   "metadata": {},
   "source": [
    "<font size = \"5\">\n",
    "\n",
    "(b) Recode a numeric colum\n",
    "\n",
    "<font size = \"3\">\n",
    "\n",
    "- Import the \"data_raw/seasons.csv\" file\n",
    "- Recode the \"year\" column into a new column \"year_brackets\" <br>\n",
    "with the following categories\n",
    "\n",
    "$\\qquad$ ``` [\"1950-1970\",\"1971-1990\",\"1991-2005\", \"2006-2020\", \"2021-onwards\"] ```\n",
    "\n",
    "$\\qquad$ HINT: Use the \"pd.cut()\" command."
   ]
  },
  {
   "cell_type": "code",
   "execution_count": 27,
   "metadata": {},
   "outputs": [],
   "source": [
    "# Write your own code\n",
    "\n",
    "seasons = pd.read_csv(\"data_raw/seasons.csv\")\n",
    "\n",
    "bins_years = [1950, 1971, 1991, 2006, 2021, 2100]\n",
    "labels_years = ['1950-1970', '1971-1990', '1991-2005', '2006-2020', '2021-onwards']\n",
    "\n",
    "seasons['year_brackets'] = pd.cut(seasons['year'],\n",
    "                                  bins = bins_years,\n",
    "                                  right = False,\n",
    "                                  labels = labels_years,)\n"
   ]
  },
  {
   "attachments": {},
   "cell_type": "markdown",
   "metadata": {},
   "source": [
    "<font size = \"5\">\n",
    "\n",
    "(c) Aggregate and query\n",
    "\n",
    "<font size = \"3\">\n",
    "\n",
    "- Import the \"data_raw/driver_standings.csv\" file\n",
    "- Subset the observations for 'raceId $\\ge$ 99' using ```.query()```\n",
    "- Obtain the mean of \"points\" by \"driverId\" <br> \n",
    " using ``` .groupby().agg() ```\n",
    "- Subset the drivers with a mean of points $\\ge 40$\n",
    "- Store the results of all these operations in a dataframe <br>\n",
    "```driver_standings_agg ```"
   ]
  },
  {
   "cell_type": "code",
   "execution_count": 51,
   "metadata": {},
   "outputs": [
    {
     "name": "stdout",
     "output_type": "stream",
     "text": [
      "          mean_points\n",
      "driverId             \n",
      "1          166.259615\n",
      "3          119.205882\n",
      "4           61.083650\n",
      "8           59.899225\n",
      "13          46.447514\n",
      "17          78.316239\n",
      "18          43.486607\n",
      "20         121.132296\n",
      "30          46.082397\n",
      "815         51.820833\n",
      "817         58.732759\n",
      "822         96.064356\n",
      "830        125.295732\n",
      "832         50.734756\n",
      "844         93.451923\n",
      "846         62.421687\n"
     ]
    }
   ],
   "source": [
    "# Write your own code\n",
    "\n",
    "driver_standings = pd.read_csv('data_raw/driver_standings.csv')\n",
    "driver_standings_agg = (driver_standings.query('raceId >= 99')\n",
    "                       .groupby('driverId')\n",
    "                       .agg(mean_points = ('points', 'mean'))\n",
    "                       .query('mean_points >= 40'))\n",
    "\n",
    "print(driver_standings_agg)\n"
   ]
  },
  {
   "attachments": {},
   "cell_type": "markdown",
   "metadata": {},
   "source": [
    "<font size = \"5\">\n",
    "\n",
    "(d) Aggregate and sort\n",
    "\n",
    "<font size = \"3\">\n",
    "\n",
    "- Import the \"data_raw/driver_standings.csv\" file\n",
    "- Obtain the mean of \"points\" by \"driverId\" <br> \n",
    "using ``` .groupby().agg() ```\n",
    "- Sort the teams in descending order using of <br>\n",
    "the mean of points using ``` .sort_values() ```"
   ]
  },
  {
   "cell_type": "code",
   "execution_count": 50,
   "metadata": {},
   "outputs": [
    {
     "name": "stdout",
     "output_type": "stream",
     "text": [
      "          mean_points\n",
      "driverId             \n",
      "1          146.663987\n",
      "830        125.295732\n",
      "20         107.110368\n",
      "822         96.064356\n",
      "844         93.451923\n",
      "...               ...\n",
      "480          0.000000\n",
      "217          0.000000\n",
      "218          0.000000\n",
      "220          0.000000\n",
      "858          0.000000\n",
      "\n",
      "[850 rows x 1 columns]\n"
     ]
    }
   ],
   "source": [
    "# Write your own code\n",
    "\n",
    "driver_standings = pd.read_csv('data_raw/driver_standings.csv')\n",
    "driver_standings_agg = (driver_standings.groupby(['driverId'])\n",
    "                       .agg(mean_points = ('points', 'mean'))\n",
    "                       .sort_values(by = 'mean_points', ascending = False))\n",
    "\n",
    "print(driver_standings_agg)\n"
   ]
  },
  {
   "attachments": {},
   "cell_type": "markdown",
   "metadata": {},
   "source": [
    "<font size = \"5\">\n",
    "\n",
    "(e) Rename column\n",
    "\n",
    "<font size = \"3\">\n",
    "\n",
    "- Import the \"data_raw/driver_standings.csv\" file\n",
    "- Rename the column \"points\" to \"points_driver\"\n",
    "\n",
    "HINT: Create a dictionary and use ```.rename(columns = ...)``` <br>\n",
    "See Lecture 15"
   ]
  },
  {
   "cell_type": "code",
   "execution_count": 38,
   "metadata": {},
   "outputs": [
    {
     "name": "stdout",
     "output_type": "stream",
     "text": [
      "['driverStandingsId' 'raceId' 'driverId' 'points_driver' 'position'\n",
      " 'positionText' 'wins']\n"
     ]
    }
   ],
   "source": [
    "# Write your own code\n",
    "\n",
    "driver_standings = pd.read_csv('data_raw/driver_standings.csv')\n",
    "dict_rename_driverstandings = {'points' : 'points_driver'}\n",
    "driver_standings = driver_standings.rename(columns = dict_rename_driverstandings)\n",
    "\n",
    "print(driver_standings.columns.values)"
   ]
  },
  {
   "attachments": {},
   "cell_type": "markdown",
   "metadata": {},
   "source": [
    "<font size = \"5\">\n",
    "\n",
    "(f) Merge dataset\n",
    "\n",
    "<font size = \"3\">\n",
    "\n",
    "- Import the \"data_raw/driver_standings.csv\" and <br>\n",
    "\"data_raw/drivers.csv\" files\n",
    "- Create a new dataset with  ```pd.merge()``` using <br>\n",
    "\"driver_standings\" as the primary dataset, and <br>\n",
    "\"drivers\" as the secondary dataset, merging on <br>\n",
    "the column \"driverId\"\n",
    "- To get full points **ONLY** merge the \"surname\" column <br>\n",
    "from the secondary dataset (not all the columns)\n",
    "\n",
    "HINT: Use ```[[...]]``` to extract a subset of columns <br>\n",
    "from the secondary dataset before merging, including the <br>\n",
    "\"driverId\" column"
   ]
  },
  {
   "cell_type": "code",
   "execution_count": 44,
   "metadata": {},
   "outputs": [
    {
     "data": {
      "text/html": [
       "<div>\n",
       "<style scoped>\n",
       "    .dataframe tbody tr th:only-of-type {\n",
       "        vertical-align: middle;\n",
       "    }\n",
       "\n",
       "    .dataframe tbody tr th {\n",
       "        vertical-align: top;\n",
       "    }\n",
       "\n",
       "    .dataframe thead th {\n",
       "        text-align: right;\n",
       "    }\n",
       "</style>\n",
       "<table border=\"1\" class=\"dataframe\">\n",
       "  <thead>\n",
       "    <tr style=\"text-align: right;\">\n",
       "      <th></th>\n",
       "      <th>driverStandingsId</th>\n",
       "      <th>driverId</th>\n",
       "      <th>surname</th>\n",
       "    </tr>\n",
       "  </thead>\n",
       "  <tbody>\n",
       "    <tr>\n",
       "      <th>0</th>\n",
       "      <td>1</td>\n",
       "      <td>1</td>\n",
       "      <td>Hamilton</td>\n",
       "    </tr>\n",
       "    <tr>\n",
       "      <th>1</th>\n",
       "      <td>2</td>\n",
       "      <td>2</td>\n",
       "      <td>Heidfeld</td>\n",
       "    </tr>\n",
       "    <tr>\n",
       "      <th>2</th>\n",
       "      <td>3</td>\n",
       "      <td>3</td>\n",
       "      <td>Rosberg</td>\n",
       "    </tr>\n",
       "    <tr>\n",
       "      <th>3</th>\n",
       "      <td>4</td>\n",
       "      <td>4</td>\n",
       "      <td>Alonso</td>\n",
       "    </tr>\n",
       "    <tr>\n",
       "      <th>4</th>\n",
       "      <td>5</td>\n",
       "      <td>5</td>\n",
       "      <td>Kovalainen</td>\n",
       "    </tr>\n",
       "    <tr>\n",
       "      <th>...</th>\n",
       "      <td>...</td>\n",
       "      <td>...</td>\n",
       "      <td>...</td>\n",
       "    </tr>\n",
       "    <tr>\n",
       "      <th>33897</th>\n",
       "      <td>71841</td>\n",
       "      <td>840</td>\n",
       "      <td>Stroll</td>\n",
       "    </tr>\n",
       "    <tr>\n",
       "      <th>33898</th>\n",
       "      <td>71842</td>\n",
       "      <td>852</td>\n",
       "      <td>Tsunoda</td>\n",
       "    </tr>\n",
       "    <tr>\n",
       "      <th>33899</th>\n",
       "      <td>71843</td>\n",
       "      <td>830</td>\n",
       "      <td>Verstappen</td>\n",
       "    </tr>\n",
       "    <tr>\n",
       "      <th>33900</th>\n",
       "      <td>71844</td>\n",
       "      <td>856</td>\n",
       "      <td>de Vries</td>\n",
       "    </tr>\n",
       "    <tr>\n",
       "      <th>33901</th>\n",
       "      <td>71845</td>\n",
       "      <td>855</td>\n",
       "      <td>Zhou</td>\n",
       "    </tr>\n",
       "  </tbody>\n",
       "</table>\n",
       "<p>33902 rows × 3 columns</p>\n",
       "</div>"
      ],
      "text/plain": [
       "       driverStandingsId  driverId     surname\n",
       "0                      1         1    Hamilton\n",
       "1                      2         2    Heidfeld\n",
       "2                      3         3     Rosberg\n",
       "3                      4         4      Alonso\n",
       "4                      5         5  Kovalainen\n",
       "...                  ...       ...         ...\n",
       "33897              71841       840      Stroll\n",
       "33898              71842       852     Tsunoda\n",
       "33899              71843       830  Verstappen\n",
       "33900              71844       856    de Vries\n",
       "33901              71845       855        Zhou\n",
       "\n",
       "[33902 rows x 3 columns]"
      ]
     },
     "metadata": {},
     "output_type": "display_data"
    }
   ],
   "source": [
    "# Write your own code\n",
    "\n",
    "driver_standings = pd.read_csv('data_raw/driver_standings.csv')\n",
    "drivers = pd.read_csv('data_raw/drivers.csv')\n",
    "\n",
    "drivers_merged = pd.merge(driver_standings,\n",
    "                          drivers[['driverId', 'surname']],\n",
    "                          on = 'driverId',\n",
    "                          how = 'left')\n",
    "\n",
    "display(drivers_merged[['driverStandingsId', 'driverId', 'surname']])"
   ]
  }
 ],
 "metadata": {
  "kernelspec": {
   "display_name": "base",
   "language": "python",
   "name": "python3"
  },
  "language_info": {
   "codemirror_mode": {
    "name": "ipython",
    "version": 3
   },
   "file_extension": ".py",
   "mimetype": "text/x-python",
   "name": "python",
   "nbconvert_exporter": "python",
   "pygments_lexer": "ipython3",
   "version": "3.9.13"
  },
  "orig_nbformat": 4,
  "vscode": {
   "interpreter": {
    "hash": "d8ae924da46794a1cbf88d5e0019ca8ad6dbdd37da8d02e533956f9d1ba25e02"
   }
  }
 },
 "nbformat": 4,
 "nbformat_minor": 2
}
