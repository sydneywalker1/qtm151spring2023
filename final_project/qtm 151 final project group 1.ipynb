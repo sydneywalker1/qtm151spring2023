{
 "cells": [
  {
   "attachments": {},
   "cell_type": "markdown",
   "metadata": {},
   "source": [
    "# Analyzing the Effect of Pit Stop Time Duration on Race Results \n",
    "\n",
    "### Group 1: Sydney Walker, Alana Dawson, Ishana Ram, Deborah Hong\n",
    "#### QTM 151 - Alejandro Sanchez Becerra\n",
    "#### April 25th, 2023\n"
   ]
  },
  {
   "attachments": {},
   "cell_type": "markdown",
   "metadata": {},
   "source": [
    "### Importing Libraries "
   ]
  },
  {
   "cell_type": "code",
   "execution_count": null,
   "metadata": {},
   "outputs": [],
   "source": [
    "import pandas as pd\n",
    "import matplotlib.pyplot as plt\n",
    "import matplotlib.dates as mdates\n",
    "from datetime import date, time, datetime\n",
    "import numpy as np\n",
    "import statsmodels.api as sm\n",
    "import statsmodels.formula.api as smf\n",
    "from statsmodels.iolib.summary2 import summary_col\n"
   ]
  },
  {
   "cell_type": "code",
   "execution_count": null,
   "metadata": {},
   "outputs": [],
   "source": [
    "pitstops = pd.read_csv(\"data_raw/pit_stops.csv\")\n",
    "drivers = pd.read_csv(\"data_raw/drivers.csv\")\n",
    "results = pd.read_csv(\"data_raw/results.csv\")\n",
    "races = pd.read_csv(\"data_raw/races.csv\")\n",
    "\n",
    "display()"
   ]
  },
  {
   "cell_type": "code",
   "execution_count": null,
   "metadata": {},
   "outputs": [],
   "source": [
    "#British Grand Prix\n",
    "races_British_grandprix = races.query('name == \"British Grand Prix\"')\n",
    "races_British_grandprix.sort_values(\"year\", ascending = True)\n",
    "display(races_British_grandprix)\n",
    "\n",
    "#Itlian Grand Prix\n",
    "races_Australian_grandprix = races.query('name == \"Australian Grand Prix\"')\n",
    "races_Australian_grandprix.sort_values(\"year\", ascending = True)\n",
    "display(races_Australian_grandprix)"
   ]
  },
  {
   "cell_type": "code",
   "execution_count": null,
   "metadata": {},
   "outputs": [],
   "source": [
    "#British Grand Prix\n",
    "sorted_pitstops_British = pitstops.sort_values(by='duration', ascending=False)\n",
    "pitstops_merge_British = pd.merge(races_British_grandprix,\n",
    "                          sorted_pitstops_British,\n",
    "                          on = \"raceId\",\n",
    "                          how = \"left\")\n",
    "British_grandprix_2011 = (pitstops_merge_British[pitstops_merge_British['year'] == 2011])\n",
    "display(British_grandprix_2011)\n",
    "\n",
    "#Australian Grand Prix\n",
    "sorted_pitstops_Australian = pitstops.sort_values(by='duration', ascending=False)\n",
    "pitstops_merge_Australian = pd.merge(races_Australian_grandprix,\n",
    "                          sorted_pitstops_Australian,\n",
    "                          on = \"raceId\",\n",
    "                          how = \"left\")\n",
    "Australian_grandprix_2011 = (pitstops_merge_Australian[pitstops_merge_Australian['year'] == 2011])\n",
    "display(Australian_grandprix_2011)"
   ]
  },
  {
   "cell_type": "code",
   "execution_count": null,
   "metadata": {},
   "outputs": [],
   "source": [
    "#British Grand Prix\n",
    "results_British_grandprix = results.query('raceId == 849')\n",
    "pitstops_final_British = pd.merge(results_British_grandprix,British_grandprix_2011, on='driverId')\n",
    "pitstops_final2_British = pitstops_final_British[[\"driverId\",\"points\",\"stop\",\"duration\",\"milliseconds_y\"]]\n",
    "display(pitstops_final_British)\n",
    "\n",
    "#Australian Grand Prix\n",
    "results_Australian_grandprix = results.query('raceId == 841')\n",
    "pitstops_final_Australian = pd.merge(results_Australian_grandprix,Australian_grandprix_2011, on='driverId')\n",
    "pitstops_final2_Australian = pitstops_final_Australian[[\"driverId\",\"points\",\"stop\",\"duration\",\"milliseconds_y\"]]\n",
    "display(pitstops_final_Australian)"
   ]
  },
  {
   "cell_type": "code",
   "execution_count": null,
   "metadata": {},
   "outputs": [],
   "source": [
    "#British Grand Prix\n",
    "pitstopduration_agg_British = (pitstops_final2_British.groupby([\"driverId\"])\n",
    "                       .agg(total_pitstop_duration = ('milliseconds_y', 'sum'),\n",
    "                        total_points =('points', 'mean'))\n",
    "                        .sort_values(by = 'total_pitstop_duration', ascending = False))\n",
    "display(pitstopduration_agg_British)\n",
    "\n",
    "#Australian Grand Prix\n",
    "pitstopduration_agg_Australian = (pitstops_final2_Australian.groupby([\"driverId\"])\n",
    "                       .agg(total_pitstop_duration = ('milliseconds_y', 'sum'),\n",
    "                        total_points =('points', 'mean'))\n",
    "                        .sort_values(by = 'total_pitstop_duration', ascending = False))\n",
    "display(pitstopduration_agg_Australian)"
   ]
  },
  {
   "cell_type": "code",
   "execution_count": null,
   "metadata": {},
   "outputs": [],
   "source": [
    "#British Grand Prix\n",
    "plt.subplot(1, 2, 1)\n",
    "plt.scatter(x='total_pitstop_duration', y='total_points', data=pitstopduration_agg_British, color = \"aquamarine\")\n",
    "plt.xlabel(\"Total Pitstop Time (Milliseconds)\")\n",
    "plt.ylabel(\"Points Earned In Competition\")\n",
    "plt.legend([\"British\"], loc='upper left')\n",
    "x = pitstopduration_agg_British['total_pitstop_duration']\n",
    "y = pitstopduration_agg_British['total_points']\n",
    "m, b = np.polyfit(x, y, 1)\n",
    "plt.plot(x, m*x + b, color='red')\n",
    "\n",
    "\n",
    "#Australian Grand Prix\n",
    "plt.subplot(1, 2, 2)\n",
    "plt.scatter(x='total_pitstop_duration', y='total_points', data=pitstopduration_agg_Australian, color = \"mediumslateblue\")\n",
    "plt.xlabel(\"Total Pitstop Time (Milliseconds)\")\n",
    "plt.ylabel(\"Points Earned In Competition\")\n",
    "x = pitstopduration_agg_Australian['total_pitstop_duration']\n",
    "y = pitstopduration_agg_Australian['total_points']\n",
    "m, b = np.polyfit(x, y, 1)\n",
    "plt.plot(x, m*x + b, color='red')\n",
    "\n",
    "\n",
    "plt.tight_layout()\n",
    "plt.legend([\"Australian\"], loc='upper left')\n",
    "plt.show()\n"
   ]
  },
  {
   "cell_type": "code",
   "execution_count": null,
   "metadata": {},
   "outputs": [],
   "source": [
    "#Regression Analysis \n",
    "\n",
    "results_univariateBritish = smf.ols(formula = 'total_points ~ total_pitstop_duration',data =pitstopduration_agg_British ).fit(cov_type= \"HC1\")\n",
    "print(summary_col(results_univariateBritish,\n",
    "                  stars = True))\n",
    "\n",
    "results_univariateAustralian = smf.ols(formula = 'total_points ~ total_pitstop_duration',data =pitstopduration_agg_Australian ).fit(cov_type= \"HC1\")\n",
    "print(summary_col(results_univariateAustralian,\n",
    "                  stars = True))"
   ]
  },
  {
   "attachments": {},
   "cell_type": "markdown",
   "metadata": {},
   "source": [
    "## INTRODUCTION\n",
    "\n",
    "<font size = \"3\">\n",
    "\n",
    "Formula 1 is the highest level of single seat car racing conducted internationally. Each year, there are a multitude of different races called Grand Prix - each race is contested in a different location. Drivers drive a specifically designed race car, typically sponsored by different brands such as Tommy Hilfiger, Monster Energy, and Puma, for example. For the 2023 season, there are over 275 sponsorship programs. There are three parts to each race - practice, qualifying, and the race - which are typically conducted over three days. During practice, drivers get to test their car on the track while gauging the weather and overall environment. In the qualifying round, each driver completes a designated amount of laps around the track on their own - this is to determine seeding. The fastest driver gets to start in the first position, and so on. Lastly, the race is conducted on the final day of the Grand Prix sequence. On race day, drivers get to complete one warm up lap before heading to their starting positions as determined by the qualifying round. When the race starts, drivers have to complete a certain amount of laps which typically equate 305 km. During the race, drivers are allowed to return to their garage in order to fuel up, change their tires, etc. Though pit stops can typically be completed quickly, drivers aim to minimize the amount of pit stops they need to take in order to save valuable time. Points are designated to the drivers in the order that they finish the race, with the first driver receiving the most points. The driver with the most points at the end of the Formula 1 season gets crowned the World Champion. \n",
    "\n",
    "For this project, we decided that the question we are analyzing would be: What is the relationship between pit stop time duration and race results? Understanding the relationship between the duration of a driver’s pit stop and their overall race results is important because pit stops are a critical part of a team’s overall racing strategy. During a pit stop, a team has the chance to refuel, change tires, and make adjustments to the car. These changes all have the ability to improve a driver’s performance - this consequently increases a driver’s chances of winning. On the contrary, if a pit stop crew addresses the wrong components of the car or, more importantly, takes too long, a significant amount of time can be added to the driver’s race, decreasing the driver’s chances of winning. In a sport where races are won or lost by mere seconds, it is vital that pit stops are used in an efficient manner. Through our analysis of a driver’s overall success - in relation to their pit stop duration - drivers can look to improve their overall strategy when it comes to pit stops. For example, if a driver is seeing a lot of success when their pit stops are around a certain time, then they should opt to maintain their timing; contrastingly, if a driver notices that their success is weaning using their current pit stop timing, they should elect to try a different timing scheme. \n",
    "\n",
    "Based on our results, it can be concluded that there is a weak positive relationship between total pitstop time and points earned in competition. We chose to analyze data from 2 specific Formula 1 races: the 2011 Australian Grand Prix and the 2011 British Grand Prix. Using this data, we made a scatter plot of total pitstop duration vs points earned, and tried a linear regression on the data. We obtained an r-squared value of 0.0778 for the British Grand Prix and an r-squared value of 0.0148 for the Australian Grand Prix. Thus, we can conclude that as pit stop duration increases, points earned in competition increase as well. This is logical because pit stops are essential to keep the racing cars at peak quality and ensure that they are most efficient. Although in the short term, a shorter pitstop means that driver gains an advantage, they risk racing with a car that has worn out tires, poor suspension, low fuel, or other setbacks that would cause them to finish poorly in the long run. However, it is evident that this is not a very strong relationship because the r-squared values are very low. Given that r-squared ranges from -1 to 1, a value of 0.0148 or 0.0778 is an indication that although these two variables have a positive relationship, the connection is not very strong. Based on the graphs, it is likely that a nonlinear regression better describes the relationship between pitstop duration and points earned. Many other variables which were not accounted for affect how well drivers place and by negating these variables, we get a weak regression. Ultimately, longer pitstop times do positively affect how well a driver performs in competition but this is not the only variable that influences these results. \n",
    "\n",
    "When beginning this project, we wanted to make sure that our results would be representative and generalizable. Once we decided on our research question, we decided to look at two of the most popular Grand Prix races because they had the most drivers competing, allowing us to most reliably draw conclusions about the Formula 1 population as a whole. Our objective was to determine the relationship between pitstop duration and race success so we decided to use the pit_stops, results, races, and drivers data sets. From here, we knew that we wanted to compare the results and races for each respective driver so we planned a method to merge these data sets using a common variable. Finally, we thought that a scatter plot would best visualize the results we got because we were comparing the relationship between two variables. Scatter plots are efficient at analyzing bivariate relationships and assessing the strength and direction of the relationship between them. Furthermore, scatterplots expose any outliers that might be influencing the results, so we knew that this would best demonstrate our findings even to someone who is not familiar with Formula 1 or the data sets.\n"
   ]
  },
  {
   "attachments": {},
   "cell_type": "markdown",
   "metadata": {},
   "source": [
    "## DATA DESCRIPTION\n",
    "\n",
    "<font size = \"3\">\n",
    "\n",
    "For our research question, we will be using 4 datasets: pit_stops.csv, drivers.csv, results.csv, and races.csv. To generalize, the pit_stops dataset gives information about each driver’s pit stops in relation to a specific Formula 1 race. With this dataset we are able to see how many stops each driver took along with how long each stop was, which will help the objective of our research question of whether pit stop time affects results. The dataset contains 7 variables which include raceId, driverId, stops, lap, time, duration, and milliseconds. With this dataset, we will be using the raceId, driverId, stops, duration, and milliseconds variables. The raceId variable refers to Id of a specific formula 1 race, and similarly, the driverId variable differentiates each driver with their own unique Id number.  The “stop” column refers to the number of stops each driver took during their race, and the “duration” and “milliseconds” columns refers to how long the stop was in both seconds and in milliseconds. The second dataset that we will be using is the drivers dataset, which gives personal and background information about each driver. This dataset has 9 variables: driverId, driverRef, number, code, forename, surname, dob, nationality, and url. The only variable that we are using in this dataset is the driverId variable, which identifies each driver with their own unique Id number. The third dataset we are using is the results dataset, which presents information in relation to how each driver placed in their respective races. This dataset has 18 variables: resultId, raceId, driverId, constructorId, number, grid, position, positionText, positionOrder, points, laps, time, milliseconds, fastestlap, rank, fastestLapTime, fastestLapSpeed, and statusId. We are most interested in using the points variable in this dataset, which refers to the amount of points each driver received over the span of the season. Finally, we are using the races dataset, which looks into specific information regarding the different Formula 1 races, such as the name of the race and when/where the race took place. This dataset also has 18 variables: raceId, year, round, circuitId, name, date, time, url, fp1_date, fp1_time, fp2_date, fp2_time, fp3_date, fp3_time, quali_date, quali_time, sprint_date, and sprint_time. With this dataset, we will specifically be using the year and name variables. The year variable states what year the race took place, and the name variable states what the name of each race is."
   ]
  },
  {
   "attachments": {},
   "cell_type": "markdown",
   "metadata": {},
   "source": [
    "### Merging Procedures\n",
    "\n",
    "<font size = \"3\">\n",
    "\n",
    "We merged the sorted pitstops dataset (sorted_pitstops = pitstops dataset sorted by duration of stop) with the Races_british_grandprix(Just the British Grand Prix in the races dataset) on raceId, in order to create a new dataset, pitstops_merge_British, that showed the pitstops specifically for the British Grand Prix races, rather than all the races. These same steps were done to create pitstops_merge_Australian, to respectively get the pitstops for the Australian Grand Prix. "
   ]
  },
  {
   "cell_type": "code",
   "execution_count": null,
   "metadata": {},
   "outputs": [],
   "source": [
    "pitstops_merge_British = pd.merge(races_British_grandprix,\n",
    "                          sorted_pitstops_British,\n",
    "                          on = \"raceId\",\n",
    "                          how = \"left\")\n",
    "pitstops_merge_Australian = pd.merge(races_Australian_grandprix,\n",
    "                          sorted_pitstops_Australian,\n",
    "                          on = \"raceId\",\n",
    "                          how = \"left\")"
   ]
  },
  {
   "attachments": {},
   "cell_type": "markdown",
   "metadata": {},
   "source": [
    "<font size = \"3\">\n",
    "\n",
    "Another merging procedure was used to merge the Results of the British Grand Prix (results_British_grandprix) , with the pit stops in the British Grand Prix, for the year 2011, (British_grandprix_2011). These were merged on “driverId '' so that the resulting dataset would only contain the results for the driver Id’s contained in British_grandprix_2011. This way we were able to get a dataset that contained the duration of the pit stops, which were in British_grandprix_2011, and the results of these specific drivers (because not all drivers drover in the British Grand prix in 2011), which allowed for us to compare these values. The same was done for results_Australian_grandprix and Australian_grandprix_2011."
   ]
  },
  {
   "cell_type": "code",
   "execution_count": null,
   "metadata": {},
   "outputs": [],
   "source": [
    "pitstops_final_British = pd.merge(results_British_grandprix,British_grandprix_2011, on='driverId')\n",
    "pitstops_final_Australian = pd.merge(results_Australian_grandprix,Australian_grandprix_2011, on='driverId')"
   ]
  },
  {
   "attachments": {},
   "cell_type": "markdown",
   "metadata": {},
   "source": [
    "### Data Cleaning\n",
    "\n",
    "<font size = \"3\">\n",
    "\n",
    "For data cleaning, we took the large bulky datasets that we created through merging, and created a new dataset with less columns. We first cleaned up the data by only selecting the columns that were relevant to the question we were researching. The original merged dataset had 41 columns of data, so we filtered out the ones not applicable to our research and selected just 5 columns by writing out each column name in quotations and double brackets as seen below.\n"
   ]
  },
  {
   "cell_type": "code",
   "execution_count": null,
   "metadata": {},
   "outputs": [],
   "source": [
    "pitstops_final2_British = pitstops_final_British[[\"driverId\",\"points\",\"stop\",\"duration\",\"milliseconds_y\"]]\n",
    "pitstops_final2_Australian = pitstops_final_Australian[[\"driverId\",\"points\",\"stop\",\"duration\",\"milliseconds_y\"]]"
   ]
  },
  {
   "attachments": {},
   "cell_type": "markdown",
   "metadata": {},
   "source": [
    "<font size = \"3\">\n",
    "\n",
    "We also faced the issue of duplicates when we merged our data. If a driver made multiple pit stops during the same race, their driverId appeared twice in the driverId column when we wanted each driverId to be a unique value. Thus, we had to aggregate the data set to eliminate these duplicates. We aggregated statistics from the driverId column and used chaining to complete multiple functions at once. For the first argument we input the desired column name (milliseconds_y) and for the second argument we input the desired function we wanted to execute (sum). This allowed us to compute the sum of the pitstop duration times for each driver so that their Id would only appear once in the driverId column. This also allowed us to see clearly how each driver placed because it eliminated duplicates of the total_points column as well."
   ]
  },
  {
   "cell_type": "code",
   "execution_count": null,
   "metadata": {},
   "outputs": [],
   "source": [
    "pitstopduration_agg_British = (pitstops_final2_British.groupby([\"driverId\"])\n",
    "                       .agg(total_pitstop_duration = ('milliseconds_y', 'sum'),\n",
    "                        total_points =('points', 'mean'))\n",
    "                        .sort_values(by = 'total_pitstop_duration', ascending = False))\n",
    "pitstopduration_agg_Australian = (pitstops_final2_Australian.groupby([\"driverId\"])\n",
    "                       .agg(total_pitstop_duration = ('milliseconds_y', 'sum'),\n",
    "                        total_points =('points', 'mean'))\n",
    "                        .sort_values(by = 'total_pitstop_duration', ascending = False))"
   ]
  },
  {
   "attachments": {},
   "cell_type": "markdown",
   "metadata": {},
   "source": [
    "### Main Columns\n",
    "\n",
    "<font size = \"3\">\n",
    "\n",
    "pitstopduration_agg_British and pitstopduration_agg_Australian were our final 2 datasets that we used for our conclusions. These datasets contain 2 columns (each), one for total_pitstop_duration and one for total points. The total_pitstop_duration column was created in order to show the total amount of time a driver was stopped for, during a specific race. We created this by adding up the total milliseconds of all of the stops that a particular driver took, because most drivers took more than one stop. This gives a more accurate picture for the analysis, rather than using the times of an individual stop. The total points comes from the results dataset, and shows the points each driver received for that specific race (Australian Grand Prix or British Grand Prix). The total points was a numerical way of measuring the results, with the driver that finished first in the race getting 25 points, the number 2 getting 18, number 3 getting 15, and so on. These values were useful to correlate to the total time stopped, in order to show the relation between the time stopped and the results of the race. "
   ]
  },
  {
   "attachments": {},
   "cell_type": "markdown",
   "metadata": {},
   "source": [
    "## RESULTS\n",
    "\n",
    "<font size = \"3\">\n",
    "\n",
    "The scatterplot shows that there is a weak correlation between pit stop duration and the points each driver earned. In addition, using our regression analysis, we can see that there was a low r-squared value of 0.039, which further shows that there is a weak correlation between the two. This could mean that instead of pit stop duration that affects the points earned, there could be other outside factors that more significantly play into how the drivers finish their race. "
   ]
  },
  {
   "attachments": {},
   "cell_type": "markdown",
   "metadata": {},
   "source": [
    "## DISCUSSION\n",
    "\n",
    "<font size = \"3\">\n",
    "\n",
    "Based on the scatterplot that we created as well as the regression analysis we ran, we can see that our findings contradicted our initial hypothesis. As a group, we thought pitstop duration would have a big impact on the driver’s results and that the longer the duration of a pitstop was, the worse the driver was going to do in terms of standings at the end of the race. We came to this conclusion because we understood how important time is to a race. Knowing that drivers of Formula 1 races cross the finish line within seconds of each other, we assumed that the faster a pitstop was, the more likely it was for the driver to reach the finish line first. However, our scatter plots showed that there was a weak correlation between pit stop duration and the amount of points each driver earned. Longer pit stops resulted in less points earned by the driver, which is what we expected, but shorter pit stops also resulted in less points earned, which was not what we expected to see. Additionally, the regression analysis we ran resulted in a low r-squared value of 0.0339, which further proves that the pit stop duration doesn’t affect points earned as drastically as we initially predicted. This could show that although pit stop duration doesn’t factor too much into how the drivers finish, other variables could, which we could look into if we were to further our research question.  "
   ]
  }
 ],
 "metadata": {
  "kernelspec": {
   "display_name": "base",
   "language": "python",
   "name": "python3"
  },
  "language_info": {
   "codemirror_mode": {
    "name": "ipython",
    "version": 3
   },
   "file_extension": ".py",
   "mimetype": "text/x-python",
   "name": "python",
   "nbconvert_exporter": "python",
   "pygments_lexer": "ipython3",
   "version": "3.9.13 (main, Aug 25 2022, 18:29:29) \n[Clang 12.0.0 ]"
  },
  "orig_nbformat": 4,
  "vscode": {
   "interpreter": {
    "hash": "d8ae924da46794a1cbf88d5e0019ca8ad6dbdd37da8d02e533956f9d1ba25e02"
   }
  }
 },
 "nbformat": 4,
 "nbformat_minor": 2
}
