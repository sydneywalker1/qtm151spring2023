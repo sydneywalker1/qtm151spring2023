{
 "cells": [
  {
   "cell_type": "code",
   "execution_count": null,
   "metadata": {},
   "outputs": [],
   "source": [
    "#Analyzing the Effect of Pit Stop Time Duration on Race Results \n",
    "\n",
    "#Sydney Walker, Alana Dawson, Ishana Ram, Deborah Hong \n",
    "#Group 1\n",
    "#QTM 151 - Alejandro Sanchez Becerra\n",
    "#April 25th, 2023\n"
   ]
  },
  {
   "cell_type": "code",
   "execution_count": null,
   "metadata": {},
   "outputs": [],
   "source": [
    "#Importing Libraries "
   ]
  },
  {
   "cell_type": "code",
   "execution_count": null,
   "metadata": {},
   "outputs": [],
   "source": [
    "import pandas as pd\n",
    "import matplotlib.pyplot as plt\n",
    "import matplotlib.dates as mdates\n",
    "from datetime import date, time, datetime\n",
    "import numpy as np\n",
    "import statsmodels.api as sm\n",
    "import statsmodels.formula.api as smf\n",
    "from statsmodels.iolib.summary2 import summary_col\n"
   ]
  },
  {
   "cell_type": "code",
   "execution_count": null,
   "metadata": {},
   "outputs": [],
   "source": [
    "pitstops = pd.read_csv(\"data_raw/pit_stops.csv\")\n",
    "drivers = pd.read_csv(\"data_raw/drivers.csv\")\n",
    "results = pd.read_csv(\"data_raw/results.csv\")\n",
    "races = pd.read_csv(\"data_raw/races.csv\")\n",
    "\n",
    "display()"
   ]
  },
  {
   "cell_type": "code",
   "execution_count": null,
   "metadata": {},
   "outputs": [],
   "source": [
    "#British Grand Prix\n",
    "races_British_grandprix = races.query('name == \"British Grand Prix\"')\n",
    "races_British_grandprix.sort_values(\"year\", ascending = True)\n",
    "display(races_British_grandprix)\n",
    "\n",
    "#Itlian Grand Prix\n",
    "races_Australian_grandprix = races.query('name == \"Australian Grand Prix\"')\n",
    "races_Australian_grandprix.sort_values(\"year\", ascending = True)\n",
    "display(races_Australian_grandprix)"
   ]
  },
  {
   "cell_type": "code",
   "execution_count": null,
   "metadata": {},
   "outputs": [],
   "source": [
    "#British Grand Prix\n",
    "sorted_pitstops_British = pitstops.sort_values(by='duration', ascending=False)\n",
    "pitstops_merge_British = pd.merge(races_British_grandprix,\n",
    "                          sorted_pitstops_British,\n",
    "                          on = \"raceId\",\n",
    "                          how = \"left\")\n",
    "British_grandprix_2011 = (pitstops_merge_British[pitstops_merge_British['year'] == 2011])\n",
    "display(British_grandprix_2011)\n",
    "\n",
    "#Australian Grand Prix\n",
    "sorted_pitstops_Australian = pitstops.sort_values(by='duration', ascending=False)\n",
    "pitstops_merge_Australian = pd.merge(races_Australian_grandprix,\n",
    "                          sorted_pitstops_Australian,\n",
    "                          on = \"raceId\",\n",
    "                          how = \"left\")\n",
    "Australian_grandprix_2011 = (pitstops_merge_Australian[pitstops_merge_Australian['year'] == 2011])\n",
    "display(Australian_grandprix_2011)"
   ]
  },
  {
   "cell_type": "code",
   "execution_count": null,
   "metadata": {},
   "outputs": [],
   "source": [
    "#British Grand Prix\n",
    "results_British_grandprix = results.query('raceId == 849')\n",
    "pitstops_final_British = pd.merge(results_British_grandprix,British_grandprix_2011, on='driverId')\n",
    "pitstops_final2_British = pitstops_final_British[[\"driverId\",\"points\",\"stop\",\"duration\",\"milliseconds_y\"]]\n",
    "display(pitstops_final_British)\n",
    "\n",
    "#Australian Grand Prix\n",
    "results_Australian_grandprix = results.query('raceId == 841')\n",
    "pitstops_final_Australian = pd.merge(results_Australian_grandprix,Australian_grandprix_2011, on='driverId')\n",
    "pitstops_final2_Australian = pitstops_final_Australian[[\"driverId\",\"points\",\"stop\",\"duration\",\"milliseconds_y\"]]\n",
    "display(pitstops_final_Australian)"
   ]
  },
  {
   "cell_type": "code",
   "execution_count": null,
   "metadata": {},
   "outputs": [],
   "source": [
    "#British Grand Prix\n",
    "pitstopduration_agg_British = (pitstops_final2_British.groupby([\"driverId\"])\n",
    "                       .agg(total_pitstop_duration = ('milliseconds_y', 'sum'),\n",
    "                        total_points =('points', 'mean'))\n",
    "                        .sort_values(by = 'total_pitstop_duration', ascending = False))\n",
    "display(pitstopduration_agg_British)\n",
    "\n",
    "#Australian Grand Prix\n",
    "pitstopduration_agg_Australian = (pitstops_final2_Australian.groupby([\"driverId\"])\n",
    "                       .agg(total_pitstop_duration = ('milliseconds_y', 'sum'),\n",
    "                        total_points =('points', 'mean'))\n",
    "                        .sort_values(by = 'total_pitstop_duration', ascending = False))\n",
    "display(pitstopduration_agg_Australian)"
   ]
  },
  {
   "cell_type": "code",
   "execution_count": null,
   "metadata": {},
   "outputs": [],
   "source": [
    "#British Grand Prix\n",
    "plt.subplot(1, 2, 1)\n",
    "plt.scatter(x='total_pitstop_duration', y='total_points', data=pitstopduration_agg_British, color = \"aquamarine\")\n",
    "plt.xlabel(\"Total Pitstop Time (Milliseconds)\")\n",
    "plt.ylabel(\"Points Earned In Competition\")\n",
    "plt.legend([\"British\"], loc='upper left')\n",
    "x = pitstopduration_agg_British['total_pitstop_duration']\n",
    "y = pitstopduration_agg_British['total_points']\n",
    "m, b = np.polyfit(x, y, 1)\n",
    "plt.plot(x, m*x + b, color='red')\n",
    "\n",
    "\n",
    "#Australian Grand Prix\n",
    "plt.subplot(1, 2, 2)\n",
    "plt.scatter(x='total_pitstop_duration', y='total_points', data=pitstopduration_agg_Australian, color = \"mediumslateblue\")\n",
    "plt.xlabel(\"Total Pitstop Time (Milliseconds)\")\n",
    "plt.ylabel(\"Points Earned In Competition\")\n",
    "x = pitstopduration_agg_Australian['total_pitstop_duration']\n",
    "y = pitstopduration_agg_Australian['total_points']\n",
    "m, b = np.polyfit(x, y, 1)\n",
    "plt.plot(x, m*x + b, color='red')\n",
    "\n",
    "\n",
    "plt.tight_layout()\n",
    "plt.legend([\"Australian\"], loc='upper left')\n",
    "plt.show()\n"
   ]
  },
  {
   "cell_type": "code",
   "execution_count": null,
   "metadata": {},
   "outputs": [],
   "source": [
    "#Regression Analysis \n",
    "\n",
    "\n",
    "results_univariateBritish = smf.ols(formula = 'total_points ~ total_pitstop_duration',data =pitstopduration_agg_British ).fit(cov_type= \"HC1\")\n",
    "print(summary_col(results_univariateBritish,\n",
    "                  stars = True))\n",
    "\n",
    "results_univariateAustralian = smf.ols(formula = 'total_points ~ total_pitstop_duration',data =pitstopduration_agg_Australian ).fit(cov_type= \"HC1\")\n",
    "print(summary_col(results_univariateAustralian,\n",
    "                  stars = True))"
   ]
  }
 ],
 "metadata": {
  "kernelspec": {
   "display_name": "base",
   "language": "python",
   "name": "python3"
  },
  "language_info": {
   "codemirror_mode": {
    "name": "ipython",
    "version": 3
   },
   "file_extension": ".py",
   "mimetype": "text/x-python",
   "name": "python",
   "nbconvert_exporter": "python",
   "pygments_lexer": "ipython3",
   "version": "3.9.13"
  },
  "orig_nbformat": 4,
  "vscode": {
   "interpreter": {
    "hash": "d8ae924da46794a1cbf88d5e0019ca8ad6dbdd37da8d02e533956f9d1ba25e02"
   }
  }
 },
 "nbformat": 4,
 "nbformat_minor": 2
}
