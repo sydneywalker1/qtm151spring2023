{
 "cells": [
  {
   "cell_type": "code",
   "execution_count": 2,
   "metadata": {},
   "outputs": [],
   "source": [
    "import pandas as pd\n",
    "import matplotlib.pyplot as plt\n",
    "import matplotlib.dates as mdates\n",
    "from datetime import date, time, datetime"
   ]
  },
  {
   "cell_type": "code",
   "execution_count": 3,
   "metadata": {},
   "outputs": [],
   "source": [
    "pitstops = pd.read_csv(\"data_raw/pit_stops.csv\")\n",
    "drivers = pd.read_csv(\"data_raw/drivers.csv\")\n",
    "results = pd.read_csv(\"data_raw/results.csv\")\n",
    "races = pd.read_csv(\"data_raw/races.csv\")"
   ]
  },
  {
   "cell_type": "code",
   "execution_count": 25,
   "metadata": {},
   "outputs": [
    {
     "data": {
      "text/plain": [
       "74"
      ]
     },
     "execution_count": 25,
     "metadata": {},
     "output_type": "execute_result"
    }
   ],
   "source": [
    "#races_monaco = races.query('name == \"Monaco Grand Prix\"')\n",
    "#display(races_monaco)\n",
    "\n",
    "len(races.query('name == \"Italian Grand Prix\"'))"
   ]
  },
  {
   "cell_type": "code",
   "execution_count": 14,
   "metadata": {},
   "outputs": [
    {
     "data": {
      "text/plain": [
       "array(['Australian Grand Prix', 'Malaysian Grand Prix',\n",
       "       'Chinese Grand Prix', 'Bahrain Grand Prix', 'Spanish Grand Prix',\n",
       "       'Monaco Grand Prix', 'Turkish Grand Prix', 'British Grand Prix',\n",
       "       'German Grand Prix', 'Hungarian Grand Prix', 'European Grand Prix',\n",
       "       'Belgian Grand Prix', 'Italian Grand Prix', 'Singapore Grand Prix',\n",
       "       'Japanese Grand Prix', 'Brazilian Grand Prix',\n",
       "       'Abu Dhabi Grand Prix', 'Canadian Grand Prix', 'French Grand Prix',\n",
       "       'United States Grand Prix', 'San Marino Grand Prix',\n",
       "       'Austrian Grand Prix', 'Argentine Grand Prix',\n",
       "       'Luxembourg Grand Prix', 'Portuguese Grand Prix',\n",
       "       'Pacific Grand Prix', 'South African Grand Prix',\n",
       "       'Mexican Grand Prix', 'Korean Grand Prix', 'Detroit Grand Prix',\n",
       "       'Dutch Grand Prix', 'Dallas Grand Prix',\n",
       "       'United States Grand Prix West', 'Swiss Grand Prix',\n",
       "       'Caesars Palace Grand Prix', 'Swedish Grand Prix',\n",
       "       'Indianapolis 500', 'Moroccan Grand Prix', 'Pescara Grand Prix',\n",
       "       'Indian Grand Prix', 'Russian Grand Prix', 'Azerbaijan Grand Prix',\n",
       "       'Styrian Grand Prix', '70th Anniversary Grand Prix',\n",
       "       'Tuscan Grand Prix', 'Eifel Grand Prix',\n",
       "       'Emilia Romagna Grand Prix', 'Sakhir Grand Prix',\n",
       "       'Qatar Grand Prix', 'Mexico City Grand Prix',\n",
       "       'São Paulo Grand Prix', 'Saudi Arabian Grand Prix',\n",
       "       'Miami Grand Prix', 'Las Vegas Grand Prix'], dtype=object)"
      ]
     },
     "metadata": {},
     "output_type": "display_data"
    }
   ],
   "source": [
    "unique_races = pd.unique(races[\"name\"])\n",
    "display(unique_races)"
   ]
  },
  {
   "cell_type": "code",
   "execution_count": 4,
   "metadata": {},
   "outputs": [],
   "source": [
    "sorted_pitstops = pitstops.sort_values(by='duration', ascending=False)"
   ]
  },
  {
   "cell_type": "code",
   "execution_count": null,
   "metadata": {},
   "outputs": [],
   "source": [
    "pitstops_merge = pd.merge(races,\n",
    "                          sorted_pitstops,\n",
    "                          on = \"raceId\",\n",
    "                          how = \"left\")"
   ]
  },
  {
   "cell_type": "code",
   "execution_count": 8,
   "metadata": {},
   "outputs": [
    {
     "data": {
      "text/html": [
       "<div>\n",
       "<style scoped>\n",
       "    .dataframe tbody tr th:only-of-type {\n",
       "        vertical-align: middle;\n",
       "    }\n",
       "\n",
       "    .dataframe tbody tr th {\n",
       "        vertical-align: top;\n",
       "    }\n",
       "\n",
       "    .dataframe thead th {\n",
       "        text-align: right;\n",
       "    }\n",
       "</style>\n",
       "<table border=\"1\" class=\"dataframe\">\n",
       "  <thead>\n",
       "    <tr style=\"text-align: right;\">\n",
       "      <th></th>\n",
       "      <th>driverId</th>\n",
       "      <th>points</th>\n",
       "      <th>stop</th>\n",
       "      <th>duration</th>\n",
       "      <th>milliseconds_y</th>\n",
       "    </tr>\n",
       "  </thead>\n",
       "  <tbody>\n",
       "    <tr>\n",
       "      <th>0</th>\n",
       "      <td>1</td>\n",
       "      <td>10.0</td>\n",
       "      <td>1.0</td>\n",
       "      <td>23.227</td>\n",
       "      <td>23227.0</td>\n",
       "    </tr>\n",
       "    <tr>\n",
       "      <th>1</th>\n",
       "      <td>1</td>\n",
       "      <td>10.0</td>\n",
       "      <td>2.0</td>\n",
       "      <td>23.199</td>\n",
       "      <td>23199.0</td>\n",
       "    </tr>\n",
       "    <tr>\n",
       "      <th>2</th>\n",
       "      <td>1</td>\n",
       "      <td>10.0</td>\n",
       "      <td>3.0</td>\n",
       "      <td>25.382</td>\n",
       "      <td>25382.0</td>\n",
       "    </tr>\n",
       "    <tr>\n",
       "      <th>3</th>\n",
       "      <td>1</td>\n",
       "      <td>10.0</td>\n",
       "      <td>2.0</td>\n",
       "      <td>22.611</td>\n",
       "      <td>22611.0</td>\n",
       "    </tr>\n",
       "    <tr>\n",
       "      <th>4</th>\n",
       "      <td>1</td>\n",
       "      <td>10.0</td>\n",
       "      <td>1.0</td>\n",
       "      <td>22.552</td>\n",
       "      <td>22552.0</td>\n",
       "    </tr>\n",
       "    <tr>\n",
       "      <th>...</th>\n",
       "      <td>...</td>\n",
       "      <td>...</td>\n",
       "      <td>...</td>\n",
       "      <td>...</td>\n",
       "      <td>...</td>\n",
       "    </tr>\n",
       "    <tr>\n",
       "      <th>1674163</th>\n",
       "      <td>855</td>\n",
       "      <td>0.0</td>\n",
       "      <td>2.0</td>\n",
       "      <td>25.111</td>\n",
       "      <td>25111.0</td>\n",
       "    </tr>\n",
       "    <tr>\n",
       "      <th>1674164</th>\n",
       "      <td>855</td>\n",
       "      <td>0.0</td>\n",
       "      <td>1.0</td>\n",
       "      <td>24.332</td>\n",
       "      <td>24332.0</td>\n",
       "    </tr>\n",
       "    <tr>\n",
       "      <th>1674165</th>\n",
       "      <td>855</td>\n",
       "      <td>0.0</td>\n",
       "      <td>2.0</td>\n",
       "      <td>23.159</td>\n",
       "      <td>23159.0</td>\n",
       "    </tr>\n",
       "    <tr>\n",
       "      <th>1674166</th>\n",
       "      <td>855</td>\n",
       "      <td>0.0</td>\n",
       "      <td>1.0</td>\n",
       "      <td>22.435</td>\n",
       "      <td>22435.0</td>\n",
       "    </tr>\n",
       "    <tr>\n",
       "      <th>1674167</th>\n",
       "      <td>856</td>\n",
       "      <td>2.0</td>\n",
       "      <td>1.0</td>\n",
       "      <td>24.628</td>\n",
       "      <td>24628.0</td>\n",
       "    </tr>\n",
       "  </tbody>\n",
       "</table>\n",
       "<p>1674168 rows × 5 columns</p>\n",
       "</div>"
      ],
      "text/plain": [
       "         driverId  points  stop duration  milliseconds_y\n",
       "0               1    10.0   1.0   23.227         23227.0\n",
       "1               1    10.0   2.0   23.199         23199.0\n",
       "2               1    10.0   3.0   25.382         25382.0\n",
       "3               1    10.0   2.0   22.611         22611.0\n",
       "4               1    10.0   1.0   22.552         22552.0\n",
       "...           ...     ...   ...      ...             ...\n",
       "1674163       855     0.0   2.0   25.111         25111.0\n",
       "1674164       855     0.0   1.0   24.332         24332.0\n",
       "1674165       855     0.0   2.0   23.159         23159.0\n",
       "1674166       855     0.0   1.0   22.435         22435.0\n",
       "1674167       856     2.0   1.0   24.628         24628.0\n",
       "\n",
       "[1674168 rows x 5 columns]"
      ]
     },
     "metadata": {},
     "output_type": "display_data"
    }
   ],
   "source": [
    "pitstops_final = pd.merge(results,pitstops_merge, on='driverId')\n",
    "pitstops_final2 = pitstops_final[[\"driverId\",\"points\",\"stop\",\"duration\",\"milliseconds_y\"]]\n",
    "display(pitstops_final2)"
   ]
  },
  {
   "cell_type": "code",
   "execution_count": 9,
   "metadata": {},
   "outputs": [
    {
     "data": {
      "text/html": [
       "<div>\n",
       "<style scoped>\n",
       "    .dataframe tbody tr th:only-of-type {\n",
       "        vertical-align: middle;\n",
       "    }\n",
       "\n",
       "    .dataframe tbody tr th {\n",
       "        vertical-align: top;\n",
       "    }\n",
       "\n",
       "    .dataframe thead th {\n",
       "        text-align: right;\n",
       "    }\n",
       "</style>\n",
       "<table border=\"1\" class=\"dataframe\">\n",
       "  <thead>\n",
       "    <tr style=\"text-align: right;\">\n",
       "      <th></th>\n",
       "      <th>total_pitstop_duration</th>\n",
       "      <th>total_points</th>\n",
       "    </tr>\n",
       "    <tr>\n",
       "      <th>driverId</th>\n",
       "      <th></th>\n",
       "      <th></th>\n",
       "    </tr>\n",
       "  </thead>\n",
       "  <tbody>\n",
       "    <tr>\n",
       "      <th>1</th>\n",
       "      <td>1.172882e+10</td>\n",
       "      <td>14.182258</td>\n",
       "    </tr>\n",
       "    <tr>\n",
       "      <th>20</th>\n",
       "      <td>1.086696e+10</td>\n",
       "      <td>10.326667</td>\n",
       "    </tr>\n",
       "    <tr>\n",
       "      <th>4</th>\n",
       "      <td>1.056322e+10</td>\n",
       "      <td>5.756983</td>\n",
       "    </tr>\n",
       "    <tr>\n",
       "      <th>8</th>\n",
       "      <td>9.748976e+09</td>\n",
       "      <td>5.321023</td>\n",
       "    </tr>\n",
       "    <tr>\n",
       "      <th>817</th>\n",
       "      <td>8.880366e+09</td>\n",
       "      <td>5.633621</td>\n",
       "    </tr>\n",
       "    <tr>\n",
       "      <th>...</th>\n",
       "      <td>...</td>\n",
       "      <td>...</td>\n",
       "    </tr>\n",
       "    <tr>\n",
       "      <th>834</th>\n",
       "      <td>1.557685e+06</td>\n",
       "      <td>0.000000</td>\n",
       "    </tr>\n",
       "    <tr>\n",
       "      <th>812</th>\n",
       "      <td>8.433480e+05</td>\n",
       "      <td>0.000000</td>\n",
       "    </tr>\n",
       "    <tr>\n",
       "      <th>850</th>\n",
       "      <td>3.158020e+05</td>\n",
       "      <td>0.000000</td>\n",
       "    </tr>\n",
       "    <tr>\n",
       "      <th>851</th>\n",
       "      <td>9.057900e+04</td>\n",
       "      <td>0.000000</td>\n",
       "    </tr>\n",
       "    <tr>\n",
       "      <th>856</th>\n",
       "      <td>2.462800e+04</td>\n",
       "      <td>2.000000</td>\n",
       "    </tr>\n",
       "  </tbody>\n",
       "</table>\n",
       "<p>70 rows × 2 columns</p>\n",
       "</div>"
      ],
      "text/plain": [
       "          total_pitstop_duration  total_points\n",
       "driverId                                      \n",
       "1                   1.172882e+10     14.182258\n",
       "20                  1.086696e+10     10.326667\n",
       "4                   1.056322e+10      5.756983\n",
       "8                   9.748976e+09      5.321023\n",
       "817                 8.880366e+09      5.633621\n",
       "...                          ...           ...\n",
       "834                 1.557685e+06      0.000000\n",
       "812                 8.433480e+05      0.000000\n",
       "850                 3.158020e+05      0.000000\n",
       "851                 9.057900e+04      0.000000\n",
       "856                 2.462800e+04      2.000000\n",
       "\n",
       "[70 rows x 2 columns]"
      ]
     },
     "metadata": {},
     "output_type": "display_data"
    }
   ],
   "source": [
    "pitstopduration_agg = (pitstops_final2.groupby([\"driverId\"])\n",
    "                       .agg(total_pitstop_duration = ('milliseconds_y', 'sum'),\n",
    "                        total_points =('points', 'mean'))\n",
    "                        .sort_values(by = 'total_pitstop_duration', ascending = False))\n",
    "display(pitstopduration_agg)"
   ]
  }
 ],
 "metadata": {
  "kernelspec": {
   "display_name": "base",
   "language": "python",
   "name": "python3"
  },
  "language_info": {
   "codemirror_mode": {
    "name": "ipython",
    "version": 3
   },
   "file_extension": ".py",
   "mimetype": "text/x-python",
   "name": "python",
   "nbconvert_exporter": "python",
   "pygments_lexer": "ipython3",
   "version": "3.9.13"
  },
  "orig_nbformat": 4,
  "vscode": {
   "interpreter": {
    "hash": "d8ae924da46794a1cbf88d5e0019ca8ad6dbdd37da8d02e533956f9d1ba25e02"
   }
  }
 },
 "nbformat": 4,
 "nbformat_minor": 2
}
